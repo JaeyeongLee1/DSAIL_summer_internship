{
  "nbformat": 4,
  "nbformat_minor": 0,
  "metadata": {
    "colab": {
      "name": "PMF 구현",
      "provenance": [],
      "authorship_tag": "ABX9TyNIxGxu7VhzEjG/HDE34FFa",
      "include_colab_link": true
    },
    "kernelspec": {
      "name": "python3",
      "display_name": "Python 3"
    },
    "language_info": {
      "name": "python"
    }
  },
  "cells": [
    {
      "cell_type": "markdown",
      "metadata": {
        "id": "view-in-github",
        "colab_type": "text"
      },
      "source": [
        "<a href=\"https://colab.research.google.com/github/JaeyeongLee1/DSAIL_summer_internship/blob/main/PMF_%EA%B5%AC%ED%98%84.ipynb\" target=\"_parent\"><img src=\"https://colab.research.google.com/assets/colab-badge.svg\" alt=\"Open In Colab\"/></a>"
      ]
    },
    {
      "cell_type": "code",
      "metadata": {
        "id": "uolhtA4bxdYl",
        "colab": {
          "base_uri": "https://localhost:8080/"
        },
        "outputId": "30949778-912a-4096-e420-6f5695a515b3"
      },
      "source": [
        "import numpy as np\n",
        "import pandas as pd\n",
        "import math\n",
        "from google.colab import drive\n",
        "\n",
        "#data preprocessing(movielens data)\n",
        "drive.mount('/content/drive')\n",
        "\n",
        "ratings = pd.read_csv('/content/drive/MyDrive/DSAIL랩인턴/ratings.csv') #movielens data 사용 https://www.kaggle.com/sengzhaotoo/movielens-small?select=README.txt\n",
        "movies = pd.read_csv('/content/drive/MyDrive/DSAIL랩인턴/movies.csv')\n",
        "del ratings['timestamp']\n",
        "del movies['genres']\n",
        "df = pd.merge(ratings,movies)\n"
      ],
      "execution_count": 37,
      "outputs": [
        {
          "output_type": "stream",
          "text": [
            "Drive already mounted at /content/drive; to attempt to forcibly remount, call drive.mount(\"/content/drive\", force_remount=True).\n"
          ],
          "name": "stdout"
        }
      ]
    },
    {
      "cell_type": "code",
      "metadata": {
        "id": "cdjA6sWtMhmv"
      },
      "source": [
        "#Probabilistic Matrix Factorization(PMF) model\n",
        "def g(x):\n",
        "  return 1/(1+math.exp(-x))\n",
        "def g_prime(x):\n",
        "  return math.exp(-x)/((1+math.exp(-x))**2)\n",
        "\n",
        "def RMSE(U,V):\n",
        "  RMSE=0\n",
        "  for i in range(N):\n",
        "    for j in range(M):\n",
        "      if not np.isnan(R[i][j]):\n",
        "        RMSE += (R[i][j]-g(U[i].dot(V[j].T)))**2\n",
        "  return RMSE\n",
        "\n",
        "def E(U,V):\n",
        "  E=0\n",
        "  for i in range(N):\n",
        "    E += 0.5*lambda_u*U[i].dot(U[i].T)\n",
        "  for j in range(M):\n",
        "    E += 0.5*lambda_v*V[j].dot(V[j].T)\n",
        "  for i in range(N):\n",
        "    for j in range(M):\n",
        "      if not np.isnan(R[i][j]):\n",
        "        E += 0.5*(R[i][j]-g(U[i].dot(V[j].T)))**2\n",
        "  return E\n",
        "\n",
        "def gradE(U,V,U_batch,V_batch):\n",
        "  gradE_U,gradE_V = np.zeros((N,D)),np.zeros((M,D))\n",
        "  for i in U_batch:\n",
        "    for j in V_batch:\n",
        "      if not np.isnan(R[i][j]):\n",
        "        gradE_U[i] += (R[i][j]-g(U[i].dot(V[j].T)))*g_prime(U[i].dot(V[j].T))*(-V[j])\n",
        "    gradE_U[i] += lambda_u*U[i]\n",
        "  for j in V_batch:\n",
        "    for i in U_batch:\n",
        "      if not np.isnan(R[i][j]):\n",
        "        gradE_V[j] += (R[i][j]-g(U[i].dot(V[j].T)))*g_prime(U[i].dot(V[j].T))*(-U[i])\n",
        "    gradE_V[j] += lambda_v*V[j]\n",
        "  gradE = (gradE_U,gradE_V)\n",
        "  return gradE\n",
        "\n",
        "def SGD(U,V,batch_size,learning_rate,epoch): #epoch = epoch per mini batch\n",
        "  U_batches = []\n",
        "  V_batches = []\n",
        "  for i in range(N//batch_size-1):\n",
        "    U_batches.append(range(batch_size*i,batch_size*(i+1)))\n",
        "  U_batches.append(range(batch_size*(N//batch_size-1),N))\n",
        "  for i in range(M//batch_size-1):\n",
        "    V_batches.append(range(batch_size*i,batch_size*(i+1)))\n",
        "  V_batches.append(range(batch_size*(M//batch_size-1),M))\n",
        "  for U_batch in U_batches:\n",
        "    for V_batch in V_batches:\n",
        "      for i in range(epoch):\n",
        "        gradient = gradE(U,V,U_batch,V_batch)\n",
        "        U=U-learning_rate*gradient[0]\n",
        "        V=V-learning_rate*gradient[1]\n",
        "  return U,V\n",
        "\n",
        "def PMF_fit(R,D,lambda_u,lambda_v,learning_rate,batch_size,epoch_per_batch):\n",
        "  N = R.shape[0]\n",
        "  M = R.shape[1]\n",
        "  U = np.random.rand(N,D)\n",
        "  V = np.random.rand(M,D)\n",
        "  return SGD(U,V,batch_size,learning_rate,epoch_per_batch)"
      ],
      "execution_count": 61,
      "outputs": []
    },
    {
      "cell_type": "code",
      "metadata": {
        "colab": {
          "base_uri": "https://localhost:8080/"
        },
        "id": "2Zu-E7uF5ESv",
        "outputId": "ee06ade7-bab2-4665-943b-00cb6d821c87"
      },
      "source": [
        "lambda_u = 0.01\n",
        "lambda_v = 0.001\n",
        "learning_rate=0.05\n",
        "epoch_per_batch=2000\n",
        "mini_batch_size = 100\n",
        "D = 30\n",
        "\n",
        "#N = len(set(df['userId']))\n",
        "N=100\n",
        "#M = len(set(df['movieId']))\n",
        "M=100\n",
        "\n",
        "users = list(set(df['userId']))[:N]\n",
        "movies = list(set(df['movieId']))[:M]\n",
        "R = np.zeros((N,M))\n",
        "for i in range(N):\n",
        "  for j in range(M):\n",
        "    s1=df[df['userId']==users[i]]\n",
        "    s=s1[s1['movieId']==movies[j]]\n",
        "    x = s.rating.values\n",
        "    if len(x)==0:\n",
        "      R[i][j]=None\n",
        "    else:\n",
        "      R[i][j]=x[0]\n",
        "\n",
        "R=(R-0.5)/4.5\n",
        "\n",
        "U0 = np.random.rand(N,D)\n",
        "V0 = np.random.rand(M,D)\n",
        "print(RMSE(U0,V0)) #RMSE for random U,V\n",
        "U,V = PMF_fit(R,D,lambda_u,lambda_v,learning_rate,mini_batch_size,epoch)\n",
        "print(RMSE(U,V)) #RMSE for PMF"
      ],
      "execution_count": 66,
      "outputs": [
        {
          "output_type": "stream",
          "text": [
            "87.76306403148718\n",
            "0.6189239503641449\n"
          ],
          "name": "stdout"
        }
      ]
    }
  ]
}
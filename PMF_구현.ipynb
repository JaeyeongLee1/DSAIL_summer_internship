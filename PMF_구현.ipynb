{
  "nbformat": 4,
  "nbformat_minor": 0,
  "metadata": {
    "colab": {
      "name": "PMF 구현",
      "provenance": [],
      "authorship_tag": "ABX9TyMUhjWK2AhYWOi5kGkyztqh",
      "include_colab_link": true
    },
    "kernelspec": {
      "name": "python3",
      "display_name": "Python 3"
    },
    "language_info": {
      "name": "python"
    }
  },
  "cells": [
    {
      "cell_type": "markdown",
      "metadata": {
        "id": "view-in-github",
        "colab_type": "text"
      },
      "source": [
        "<a href=\"https://colab.research.google.com/github/JaeyeongLee1/DSAIL_summer_internship/blob/main/PMF_%EA%B5%AC%ED%98%84.ipynb\" target=\"_parent\"><img src=\"https://colab.research.google.com/assets/colab-badge.svg\" alt=\"Open In Colab\"/></a>"
      ]
    },
    {
      "cell_type": "code",
      "metadata": {
        "id": "uolhtA4bxdYl",
        "colab": {
          "base_uri": "https://localhost:8080/"
        },
        "outputId": "8b96f19d-43af-4621-baf5-99f69e2fb756"
      },
      "source": [
        "import numpy as np\n",
        "import pandas as pd\n",
        "import math\n",
        "from google.colab import drive\n",
        "\n",
        "drive.mount('/content/drive')\n",
        "\n",
        "ratings = pd.read_csv('/content/drive/MyDrive/랩인턴/ratings.csv') #movielens data 사용 https://www.kaggle.com/sengzhaotoo/movielens-small?select=README.txt\n",
        "movies = pd.read_csv('/content/drive/MyDrive/랩인턴/movies.csv')\n",
        "del ratings['timestamp']\n",
        "del movies['genres']\n",
        "df = pd.merge(ratings,movies)\n",
        "\n",
        "#N = len(set(df['userId']))\n",
        "N=50 #batch size\n",
        "#M = len(set(df['movieId']))\n",
        "M=50 #batch size\n",
        "D = 5\n",
        "\n",
        "users = list(set(df['userId']))[:N]\n",
        "movies = list(set(df['movieId']))[:M]\n",
        "\n",
        "U = np.random.rand(N,D)\n",
        "V = np.random.rand(M,D)\n",
        "R = np.zeros((N,M))\n",
        "for i in range(N):\n",
        "  for j in range(M):\n",
        "    s1=df[df['userId']==users[i]]\n",
        "    s=s1[s1['movieId']==movies[j]]\n",
        "    x = s.rating.values\n",
        "    if len(x)==0:\n",
        "      R[i][j]=None\n",
        "    else:\n",
        "      R[i][j]=x[0]\n",
        "\n",
        "R=(R-0.5)/4.5\n",
        "def g(x):\n",
        "  return 1/(1+math.exp(-x))\n",
        "def g_prime(x):\n",
        "  return math.exp(-x)/((1+math.exp(-x))**2)\n",
        "\n",
        "def RMSE(U,V):\n",
        "  RMSE=0\n",
        "  for i in range(N):\n",
        "    for j in range(M):\n",
        "      if not np.isnan(R[i][j]):\n",
        "        RMSE += (R[i][j]-g(U[i].dot(V[j].T)))**2\n",
        "  return RMSE\n",
        "\n",
        "def E(U,V):\n",
        "  E=0\n",
        "  for i in range(N):\n",
        "    E += 0.5*lambda_u*U[i].dot(U[i].T)\n",
        "  for j in range(M):\n",
        "    E += 0.5*lambda_v*V[j].dot(V[j].T)\n",
        "  for i in range(N):\n",
        "    for j in range(M):\n",
        "      if not np.isnan(R[i][j]):\n",
        "        E += 0.5*(R[i][j]-g(U[i].dot(V[j].T)))**2\n",
        "  return E\n",
        "\n",
        "def gradE(U,V):\n",
        "  gradE_U,gradE_V = np.zeros((N,D)),np.zeros((M,D))\n",
        "  for i in range(N):\n",
        "    for j in range(M):\n",
        "      if not np.isnan(R[i][j]):\n",
        "        gradE_U[i] += (R[i][j]-g(U[i].dot(V[j].T)))*g_prime(U[i].dot(V[j].T))*(-V[j])\n",
        "    gradE_U[i] += lambda_u*U[i]\n",
        "  for j in range(M):\n",
        "    for i in range(N):\n",
        "      if not np.isnan(R[i][j]):\n",
        "        gradE_V[j] += (R[i][j]-g(U[i].dot(V[j].T)))*g_prime(U[i].dot(V[j].T))*(-U[i])\n",
        "    gradE_V[j] += lambda_v*V[j]\n",
        "  gradE = (gradE_U,gradE_V)\n",
        "  return gradE\n",
        "\n"
      ],
      "execution_count": 213,
      "outputs": [
        {
          "output_type": "stream",
          "text": [
            "Drive already mounted at /content/drive; to attempt to forcibly remount, call drive.mount(\"/content/drive\", force_remount=True).\n"
          ],
          "name": "stdout"
        }
      ]
    },
    {
      "cell_type": "code",
      "metadata": {
        "colab": {
          "base_uri": "https://localhost:8080/"
        },
        "id": "2Zu-E7uF5ESv",
        "outputId": "d9d87f3c-32f5-491c-ecaf-72bfe43a88a2"
      },
      "source": [
        "lambda_u = 0.01\n",
        "lambda_v = 0.001\n",
        "learning_rate=0.05\n",
        "epoch=1000\n",
        "print(RMSE(U,V))\n",
        "for i in range(epoch):\n",
        "  U=U-learning_rate*gradE(U,V)[0]\n",
        "  V=V-learning_rate*gradE(U,V)[1]\n",
        "print(RMSE(U,V))"
      ],
      "execution_count": 214,
      "outputs": [
        {
          "output_type": "stream",
          "text": [
            "11.32952209455415\n",
            "0.46906236526915746\n"
          ],
          "name": "stdout"
        }
      ]
    }
  ]
}
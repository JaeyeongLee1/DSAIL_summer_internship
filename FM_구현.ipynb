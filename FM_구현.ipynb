{
  "nbformat": 4,
  "nbformat_minor": 0,
  "metadata": {
    "colab": {
      "name": "FM 구현.ipynb",
      "provenance": [],
      "authorship_tag": "ABX9TyPWyoMdSpqVI8m7IsXd8sGu",
      "include_colab_link": true
    },
    "kernelspec": {
      "name": "python3",
      "display_name": "Python 3"
    },
    "language_info": {
      "name": "python"
    }
  },
  "cells": [
    {
      "cell_type": "markdown",
      "metadata": {
        "id": "view-in-github",
        "colab_type": "text"
      },
      "source": [
        "<a href=\"https://colab.research.google.com/github/JaeyeongLee1/DSAIL_summer_internship/blob/main/FM_%EA%B5%AC%ED%98%84.ipynb\" target=\"_parent\"><img src=\"https://colab.research.google.com/assets/colab-badge.svg\" alt=\"Open In Colab\"/></a>"
      ]
    },
    {
      "cell_type": "code",
      "metadata": {
        "id": "VJw34Qqh0jnS"
      },
      "source": [
        "import tensorflow as tf\n",
        "import sklearn\n",
        "from sklearn import datasets\n",
        "import pandas as pd\n",
        "import numpy as np\n",
        "import math\n",
        "from sklearn.preprocessing import MinMaxScaler\n",
        "import random\n",
        "\n",
        "cancer = sklearn.datasets.load_breast_cancer()\n",
        "scaler = MinMaxScaler()\n",
        "data = scaler.fit_transform(cancer.data)\n",
        "y = cancer.target\n",
        "data = pd.DataFrame(data = data, columns = cancer.feature_names)\n",
        "\n",
        "rows = data.shape[0]\n",
        "n = data.shape[1]\n",
        "k = 10\n",
        "\n",
        "def g(x):\n",
        "  return 1/(1+math.exp(-x))\n",
        "\n",
        "def g_prime(x):\n",
        "  return math.exp(-x)/((1+math.exp(-x))**2)\n",
        "\n",
        "def y_hats(w0,W,V):\n",
        "  y_hats = []\n",
        "  for user in range(rows):\n",
        "    x = data.loc[user]\n",
        "    y_hat = w0+W.dot(x)\n",
        "    for f in range(k):\n",
        "      y_hat+=0.5*((V.T[f].dot(x))**2 - (V.T[f]**2).dot(x**2))\n",
        "    y_hats.append(y_hat)\n",
        "  return y_hats\n",
        "\n",
        "def loss(w0,W,V):\n",
        "  loss = 0\n",
        "  y_hat = y_hats(w0,W,V)\n",
        "  for user in range(rows):\n",
        "    loss += -(y[user]*math.log(g(y_hat[user])+1e-15) + (1-y[user])*math.log(1-g(y_hat[user])+1e-15))\n",
        "  return loss\n",
        "\n",
        "def loss_gradient(w0,W,V):\n",
        "  gradient_w0 = 0\n",
        "  gradient_W = np.zeros(n)\n",
        "  gradient_V = np.zeros((n,k))\n",
        "  y_hat = y_hats(w0,W,V)\n",
        "  for user in range(rows):\n",
        "    x = data.loc[user]\n",
        "    grad_w0 = 1\n",
        "    grad_W = np.zeros(n)\n",
        "    grad_V = np.zeros((n,k))\n",
        "    for i in range(k):\n",
        "      grad_W[i] = x[i]\n",
        "    for f in range(k):\n",
        "      precom = V.T[f].dot(x)\n",
        "      for i in range(n):\n",
        "        grad_V[i][f] = x[i]*precom - V[i][f]*(x[i]**2)\n",
        "    if y[user] ==1:\n",
        "      c = -g_prime(y_hat[user])/(g(y_hat[user]+1e-15))\n",
        "      #c = -1e-3\n",
        "    else:\n",
        "      c = g_prime(1-y_hat[user])/((1-g(y_hat[user])+1e-15))\n",
        "      #c = 1e-3\n",
        "    gradient_w0 += c*grad_w0\n",
        "    gradient_W += c*grad_W\n",
        "    gradient_V += c*grad_V\n",
        "  return (gradient_w0,gradient_W,gradient_V)\n",
        "    \n",
        "def GD_step(w0,W,V,alpha):\n",
        "  gradient = loss_gradient(w0,W,V)\n",
        "  w0 = w0 - alpha*gradient[0]\n",
        "  W = W - alpha*gradient[1]\n",
        "  V = V - alpha*gradient[2]\n",
        "  return (w0,W,V)\n",
        "\n",
        "def FM_fit(k,alpha,epochs):\n",
        "  w0 = 0\n",
        "  W = np.zeros(n)\n",
        "  V = np.zeros((n,k))\n",
        "  for i in range(epochs):\n",
        "    w0,W,V = GD_step(w0,W,V,alpha)\n",
        "  return w0,W,V\n",
        "\n",
        "def accuracy(w0,W,V):\n",
        "  predictions = [g(y_hat) for y_hat in y_hats(w0,W,V)]\n",
        "  count = 0\n",
        "  for i in range(rows):\n",
        "    if predictions[i]>=0.5:\n",
        "      if y[i] == 1:\n",
        "        count += 1\n",
        "    else:\n",
        "      if y[i] == 0:\n",
        "        count += 1\n",
        "  return count/rows\n"
      ],
      "execution_count": 237,
      "outputs": []
    },
    {
      "cell_type": "code",
      "metadata": {
        "colab": {
          "base_uri": "https://localhost:8080/"
        },
        "id": "YqSCKDzq1JO_",
        "outputId": "6b5fa973-720c-497d-bb0f-517c6f0fc754"
      },
      "source": [
        "alpha = 0.05\n",
        "epochs = 100\n",
        "k = 10\n",
        "w0,W,V = FM_fit(k,alpha,epochs)\n",
        "print(\"accuracy: {}\".format(accuracy(w0,W,V)))\n",
        "print(\"cross entropy loss: {}\".format(loss(w0,W,V)))"
      ],
      "execution_count": 238,
      "outputs": [
        {
          "output_type": "stream",
          "text": [
            "accuracy: 0.9349736379613357\n",
            "cross entropy loss: 86.69125125094297\n"
          ],
          "name": "stdout"
        }
      ]
    }
  ]
}
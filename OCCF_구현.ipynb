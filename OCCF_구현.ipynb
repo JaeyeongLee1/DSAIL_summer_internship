{
  "nbformat": 4,
  "nbformat_minor": 0,
  "metadata": {
    "colab": {
      "name": "OCCF 구현",
      "provenance": [],
      "authorship_tag": "ABX9TyOeP5tITDT/xr/BUg4v6Q1j",
      "include_colab_link": true
    },
    "kernelspec": {
      "name": "python3",
      "display_name": "Python 3"
    },
    "language_info": {
      "name": "python"
    }
  },
  "cells": [
    {
      "cell_type": "markdown",
      "metadata": {
        "id": "view-in-github",
        "colab_type": "text"
      },
      "source": [
        "<a href=\"https://colab.research.google.com/github/JaeyeongLee1/DSAIL_summer_internship/blob/main/OCCF_%EA%B5%AC%ED%98%84.ipynb\" target=\"_parent\"><img src=\"https://colab.research.google.com/assets/colab-badge.svg\" alt=\"Open In Colab\"/></a>"
      ]
    },
    {
      "cell_type": "code",
      "metadata": {
        "id": "-pYQ8pcP5nb7"
      },
      "source": [
        "import numpy as np\n",
        "\n",
        "#feedback matrix\n",
        "R = np.array([[0, 0, 0, 3, 4, 0, 0, 0, 7, 0, 0],\n",
        "              [0, 0, 0, 0, 0, 10, 0, 0, 0, 0, 1],\n",
        "              [1, 0, 0, 0, 0, 0, 0, 1, 0, 4, 0],\n",
        "              [0, 3, 4, 0, 3, 0, 0, 2, 2, 0, 0],\n",
        "              [0, 5, 5, 4, 0, 0, 0, 0, 0, 0, 0],\n",
        "              [1, 0, 0, 0, 0, 0, 5, 0, 0, 5, 0],\n",
        "              [0, 0, 4, 0, 0, 0, 0, 7, 0, 0, 5],\n",
        "              [0, 0, 0, 0, 0, 4, 0, 0, 0, 8, 0],\n",
        "              [2, 0, 0, 0, 0, 0, 5, 0, 0, 5, 0],\n",
        "              [0, 0, 0, 3, 0, 0, 0, 0, 3, 5, 0]])\n",
        "def r(i,j):\n",
        "  return R[i][j]\n",
        "N = R.shape[0]\n",
        "M = R.shape[1] \n",
        "C = np.zeros((N,M))\n",
        "for u in range(N):\n",
        "  for i in range(M):\n",
        "    C[u][i] = 1 + alpha*r(u,i)\n",
        "P = np.copy(R)\n",
        "P[P>0] = 1\n",
        "\n",
        "def loss(X,Y):\n",
        "  E = 0\n",
        "  for u in range(N):\n",
        "    for i in range(M):\n",
        "      E += C[u][i]*((P[u][i]-X[u].dot(Y[i].T))**2)\n",
        "  return E\n",
        "\n",
        "def cost(X,Y):\n",
        "  E = 0\n",
        "  for u in range(N):\n",
        "    E += lambda1*(X[u].dot(X[u].T))\n",
        "  for i in range(M):\n",
        "    E += lambda1*(Y[i].dot(Y[i].T))\n",
        "  for u in range(N):\n",
        "    for i in range(M):\n",
        "      E += C[u][i]*((P[u][i]-X[u].dot(Y[i].T))**2)\n",
        "  return E\n",
        "\n",
        "def ALS_step(X,Y,f,alpha,lambda1,epochs):\n",
        "  for u in range(N):\n",
        "    C_u = np.zeros((M,M))\n",
        "    for i in range(M):\n",
        "      C_u[i][i] = C[u][i]\n",
        "    Y1 = Y.T.dot(Y) + Y.T.dot(C_u-np.identity(M)).dot(Y) + lambda1*np.identity(f)\n",
        "    X[u] = (np.linalg.inv(Y1)).dot(Y.T.dot(C_u.dot(P[u])))\n",
        "  for i in range(M):\n",
        "    C_i = np.zeros((N,N))\n",
        "    for u in range(N):\n",
        "      C_i[u][u] = C[u][i]\n",
        "    X1 = (X.T).dot(X) + (X.T).dot(C_i-np.identity(N)).dot(X) + lambda1*np.identity(f)\n",
        "    Y[i] = (np.linalg.inv(X1)).dot((X.T).dot(C_i.dot(P.T[i])))\n",
        "  return X,Y\n",
        "\n",
        "def model_fit(X,Y,f,alpha,lambda1,epochs):\n",
        "  for i in range(epochs):\n",
        "    X,Y = ALS_step(X,Y,f,alpha,lambda1,epochs)\n",
        "  return X,Y\n"
      ],
      "execution_count": 24,
      "outputs": []
    },
    {
      "cell_type": "code",
      "metadata": {
        "colab": {
          "base_uri": "https://localhost:8080/"
        },
        "id": "mhtJCTId-0W2",
        "outputId": "bb358e21-9165-486c-cabc-2bae93634560"
      },
      "source": [
        "f= 5\n",
        "alpha = 40\n",
        "lambda1 = 0.01\n",
        "epochs = 1000\n",
        "\n",
        "X0 = np.random.rand(N,f)\n",
        "Y0 = np.random.rand(M,f)\n",
        "print(loss(X0,Y0))\n",
        "X,Y = model_fit(X0,Y0,f,alpha,lambda1,epochs)\n",
        "print(loss(X,Y))"
      ],
      "execution_count": 25,
      "outputs": [
        {
          "output_type": "stream",
          "text": [
            "2301.3108528221255\n",
            "4.405494082523322\n"
          ],
          "name": "stdout"
        }
      ]
    }
  ]
}
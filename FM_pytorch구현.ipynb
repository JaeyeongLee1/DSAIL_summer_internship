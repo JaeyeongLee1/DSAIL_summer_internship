{
  "nbformat": 4,
  "nbformat_minor": 0,
  "metadata": {
    "colab": {
      "name": "FM_pytorch구현",
      "provenance": [],
      "collapsed_sections": [],
      "authorship_tag": "ABX9TyMcF07wnvsm7Hodecyow0/e",
      "include_colab_link": true
    },
    "kernelspec": {
      "name": "python3",
      "display_name": "Python 3"
    },
    "language_info": {
      "name": "python"
    }
  },
  "cells": [
    {
      "cell_type": "markdown",
      "metadata": {
        "id": "view-in-github",
        "colab_type": "text"
      },
      "source": [
        "<a href=\"https://colab.research.google.com/github/JaeyeongLee1/DSAIL_summer_internship/blob/main/FM_pytorch%EA%B5%AC%ED%98%84.ipynb\" target=\"_parent\"><img src=\"https://colab.research.google.com/assets/colab-badge.svg\" alt=\"Open In Colab\"/></a>"
      ]
    },
    {
      "cell_type": "code",
      "metadata": {
        "id": "bfF7jjJX_C1v"
      },
      "source": [
        "import sklearn\n",
        "from sklearn import datasets\n",
        "import pandas as pd\n",
        "import numpy as np\n",
        "from sklearn.preprocessing import MinMaxScaler\n",
        "\n",
        "#breast cancer prediction model with Factorization Machine\n",
        "\n",
        "#preprocessing\n",
        "cancer = sklearn.datasets.load_breast_cancer()\n",
        "scaler = MinMaxScaler()\n",
        "data = scaler.fit_transform(cancer.data)\n",
        "y = cancer.target\n",
        "data = pd.DataFrame(data = data, columns = cancer.feature_names)\n",
        "\n",
        "n = data.shape[1]\n",
        "k = 10\n",
        "X = torch.FloatTensor(data.values)\n",
        "Y = torch.FloatTensor(y).unsqueeze(1)"
      ],
      "execution_count": 12,
      "outputs": []
    },
    {
      "cell_type": "code",
      "metadata": {
        "id": "3Gel_SAYrxwb"
      },
      "source": [
        "import torch\n",
        "import torch.nn as nn\n",
        "import torch.nn.functional as F\n",
        "from torch.utils.data import TensorDataset\n",
        "from torch.utils.data import DataLoader\n",
        "\n",
        "class FM(nn.Module):\n",
        "  def __init__(self,n,k):\n",
        "    super().__init__()\n",
        "    self.w0 = nn.Parameter(torch.zeros(1))\n",
        "    self.W = nn.Parameter(torch.zeros((n,1)))\n",
        "    self.V = nn.Parameter(1e-6*torch.rand((n,k)))\n",
        "    self.n = n\n",
        "    self.k = k\n",
        "\n",
        "  def forward(self,x):\n",
        "    w0 = self.w0\n",
        "    W = self.W\n",
        "    V = self.V\n",
        "    n = self.n\n",
        "    k = self.k\n",
        "    y_hat = w0 + x.matmul(W)\n",
        "    for user in range(x.shape[0]):\n",
        "      for f in range(k):\n",
        "        y_hat[user] += 0.5*((V.T[f].dot(x[user]))**2 - (V.T[f]**2).dot(x[user]**2))\n",
        "    return torch.sigmoid(y_hat)\n",
        "\n",
        "  def accuracy(self,x,y):\n",
        "    predictions = self.forward(x)\n",
        "    count = 0\n",
        "    for i in range(x.shape[0]):\n",
        "      if predictions[i]>=0.5:\n",
        "        if y[i] == 1:\n",
        "          count += 1\n",
        "      else:\n",
        "        if y[i] == 0:\n",
        "          count += 1\n",
        "    return count/rows\n",
        "\n",
        "  def optimize(self,x,y,lr,epochs,batch_size):\n",
        "    dataset = TensorDataset(X,Y)\n",
        "    dataloader = DataLoader(dataset, batch_size = batch_size,shuffle = True)\n",
        "    optimizer = torch.optim.SGD(self.parameters(),lr = lr)\n",
        "    for i in range(epochs):\n",
        "      for batchid,samples in enumerate(dataloader):\n",
        "        X_train,Y_train = samples\n",
        "        optimizer.zero_grad()\n",
        "        cost = F.binary_cross_entropy(model(X_train),Y_train)\n",
        "        cost.backward()\n",
        "        optimizer.step()\n",
        "\n",
        "dataset = TensorDataset(X,Y.unsqueeze(1))\n",
        "dataloader = DataLoader(dataset,batch_size = 100,shuffle = True)\n",
        "model = FM(n,k)\n",
        "model.optimize(X,Y,lr = 0.01, epochs = 200, batch_size = 100)"
      ],
      "execution_count": 14,
      "outputs": []
    },
    {
      "cell_type": "code",
      "metadata": {
        "colab": {
          "base_uri": "https://localhost:8080/"
        },
        "id": "z7EAZ_9eGJdf",
        "outputId": "1e6a1b51-69e9-4b7a-91c5-67a279f23b05"
      },
      "source": [
        "model.accuracy(X,Y)"
      ],
      "execution_count": 15,
      "outputs": [
        {
          "output_type": "execute_result",
          "data": {
            "text/plain": [
              "0.9086115992970123"
            ]
          },
          "metadata": {
            "tags": []
          },
          "execution_count": 15
        }
      ]
    }
  ]
}